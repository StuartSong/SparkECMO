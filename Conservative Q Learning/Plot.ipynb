{
 "cells": [
  {
   "cell_type": "code",
   "execution_count": 4,
   "id": "574c13b3-fc39-47bb-8896-9e2f880db7a2",
   "metadata": {},
   "outputs": [],
   "source": [
    "import matplotlib.pyplot as plt\n",
    "from matplotlib.ticker import FuncFormatter\n",
    "from matplotlib.backends.backend_pdf import PdfPages\n",
    "import pandas as pd\n"
   ]
  },
  {
   "cell_type": "code",
   "execution_count": 6,
   "id": "bee910a8-2a28-4a7f-bdaf-caf99eb3ad10",
   "metadata": {},
   "outputs": [],
   "source": [
    "data_test = pd.read_csv(\"../Continuous Data/test_data_continuous_no_R_for_Survival.csv\")"
   ]
  },
  {
   "cell_type": "code",
   "execution_count": 25,
   "id": "48987be1-6936-421a-ace0-74607f3218a9",
   "metadata": {},
   "outputs": [],
   "source": [
    "target_policy = pd.read_csv(\"continuous_no_Rcql_restored_actions.csv\")"
   ]
  },
  {
   "cell_type": "code",
   "execution_count": 26,
   "id": "03c77c5b-f99c-4c53-91eb-31e3c95c9caa",
   "metadata": {},
   "outputs": [],
   "source": [
    "# Create a PdfPages object to save multiple figures into one PDF\n",
    "pdf = PdfPages('cql_test_data_no_reward_plots.pdf')\n",
    "\n",
    "# Loop through each unique csn in data_test[\"csn\"]\n",
    "for csn in data_test[\"csn\"].unique():\n",
    "    selected_data = data_test.loc[data_test[\"csn\"] == csn].reset_index(drop=True)\n",
    "    selected_data_target = target_policy.loc[data_test[\"csn\"] == csn].reset_index(drop=True)\n",
    "    \n",
    "    fig, axs = plt.subplots(5, figsize=(8, 12))\n",
    "    axs[0].plot(selected_data[\"peep\"], marker='o', markersize=3, label=\"Clinician Practices\")\n",
    "    axs[0].plot(selected_data_target[\"peep\"], marker='o', markersize=3, label=\"Agent Policy\")\n",
    "    axs[0].set_title(\"ECMO PEEP\")\n",
    "    axs[0].legend(fontsize='small', frameon=False)\n",
    "    \n",
    "    axs[1].plot(selected_data[\"fio2\"], marker='o', markersize=3, label=\"Clinician Practices\")\n",
    "    axs[1].plot(selected_data_target[\"fio2\"], marker='o', markersize=3, label=\"Agent Policy\")\n",
    "    axs[1].set_title(\"ECMO FiO2\")\n",
    "    axs[1].legend(fontsize='small', frameon=False)\n",
    "    \n",
    "    axs[2].plot(selected_data[\"vent_rate_set\"], marker='o', markersize=3, label=\"Clinician Practices\")\n",
    "    axs[2].plot(selected_data_target[\"vent_rate_set\"], marker='o', markersize=3, label=\"Agent Policy\")\n",
    "    axs[2].set_title(\"Ventilator Respiratory Rate\")\n",
    "    axs[2].legend(fontsize='small', frameon=False)\n",
    "    \n",
    "    axs[3].plot(selected_data[\"flow\"], marker='o', markersize=3, label=\"Clinician Practices\")\n",
    "    axs[3].plot(selected_data_target[\"flow\"], marker='o', markersize=3, label=\"Agent Policy\")\n",
    "    axs[3].set_title(\"Ventilator Blood Flow Rate\")\n",
    "    axs[3].legend(fontsize='small', frameon=False)\n",
    "    \n",
    "    axs[4].plot(selected_data[\"sweep\"], marker='o', markersize=3, label=\"Clinician Practices\")\n",
    "    axs[4].plot(selected_data_target[\"sweep\"], marker='o', markersize=3, label=\"Agent Policy\")\n",
    "    axs[4].set_title(\"Ventilator Sweep Gas Flow Rate\")\n",
    "    axs[4].legend(fontsize='small', frameon=False)\n",
    "    \n",
    "    # Function to multiply tick labels by 4\n",
    "    def multiply_by_4(x, pos):\n",
    "        return int(x * 4)\n",
    "    \n",
    "    # Apply the formatter and set x-axis labels\n",
    "    for ax in axs:\n",
    "        ax.xaxis.set_major_formatter(FuncFormatter(multiply_by_4))\n",
    "        ax.set_xlabel(\"Hours after cannulation\")  # Set x-axis label\n",
    "        \n",
    "    # Adjust the space between subplots and provide space for the super title\n",
    "    plt.subplots_adjust(hspace=0.7, top=0.92)\n",
    "    \n",
    "    # Add a super title with the csn number\n",
    "    fig.suptitle(f'Patient {csn}', fontsize=16)\n",
    "    \n",
    "    # Save the current figure to the PDF\n",
    "    pdf.savefig(fig)\n",
    "    plt.close(fig)  # Close the figure after saving to free up memory\n",
    "\n",
    "# Close the PDF object after saving all figures\n",
    "pdf.close()\n"
   ]
  },
  {
   "cell_type": "code",
   "execution_count": null,
   "id": "60dec056-966c-4c02-9083-bceb4712d7b1",
   "metadata": {},
   "outputs": [],
   "source": []
  }
 ],
 "metadata": {
  "kernelspec": {
   "display_name": "Python 3 (ipykernel)",
   "language": "python",
   "name": "python3"
  },
  "language_info": {
   "codemirror_mode": {
    "name": "ipython",
    "version": 3
   },
   "file_extension": ".py",
   "mimetype": "text/x-python",
   "name": "python",
   "nbconvert_exporter": "python",
   "pygments_lexer": "ipython3",
   "version": "3.11.7"
  }
 },
 "nbformat": 4,
 "nbformat_minor": 5
}
