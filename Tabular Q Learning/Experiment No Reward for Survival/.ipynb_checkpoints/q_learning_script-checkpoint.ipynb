{
 "cells": [
  {
   "cell_type": "code",
   "execution_count": null,
   "id": "828924f3-b85f-4da4-903b-176b100b7f69",
   "metadata": {},
   "outputs": [],
   "source": [
    "import pandas as pd\n",
    "import ECMOrl as rl\n",
    "import plot_ECMO\n",
    "import WIS as wis"
   ]
  },
  {
   "cell_type": "code",
   "execution_count": 2,
   "id": "6ed3bdd9-2a50-43bf-b40a-1a7511054d29",
   "metadata": {},
   "outputs": [],
   "source": [
    "cluster_num = 50\n",
    "num_models = 100"
   ]
  },
  {
   "cell_type": "code",
   "execution_count": 3,
   "id": "703afed4-42d6-494c-8a40-fae4c8f9abe7",
   "metadata": {},
   "outputs": [],
   "source": [
    "merge_data = pd.read_csv(\"../can to decan data/merge_data_train.csv\")\n",
    "data_clustered = pd.read_csv(\"../can to decan data/ECMO_data_clustered_train.csv\")\n",
    "unique_action_space = pd.read_csv('../unique_action_space.csv')\n",
    "\n",
    "model_num=86\n",
    "merged_test = pd.read_csv(\"../can to decan data/merge_data_test.csv\")\n",
    "clustered_test = pd.read_csv(\"../can to decan data/ECMO_data_clustered_test.csv\")\n",
    "ori_AS = pd.read_csv(\"../can to decan data/non_discritised_data.csv\")"
   ]
  },
  {
   "cell_type": "markdown",
   "id": "440050f1-afe6-485e-8b26-f10b0c413807",
   "metadata": {},
   "source": [
    "### Train Models"
   ]
  },
  {
   "cell_type": "code",
   "execution_count": null,
   "id": "375bd599-4191-4fbe-b38d-5e1cf5faa240",
   "metadata": {},
   "outputs": [
    {
     "name": "stderr",
     "output_type": "stream",
     "text": [
      "  0%|          | 0/100 [00:00<?, ?it/s]"
     ]
    }
   ],
   "source": [
    "rl.parallel_q_learning(data_clustered, merge_data, cluster_num, unique_action_space, num_models)"
   ]
  },
  {
   "cell_type": "markdown",
   "id": "7ba3653c-5df1-4ec2-94fb-33e61a9cb8fd",
   "metadata": {},
   "source": [
    "### Evaluated Trained Models on testing dataset"
   ]
  },
  {
   "cell_type": "code",
   "execution_count": null,
   "id": "629fe790-5b4b-4d15-9e14-f434bff1ed18",
   "metadata": {},
   "outputs": [],
   "source": [
    "best_model_num, lower_upper_bonds_avg, medians_avg, maxs_avg = wis.wis_all_models(clustered_test, merged_test, num_models)\n",
    "clinician_reward = calculate_clinician_reward(merged_test)\n",
    "plot_ECMO.plot_performance_comparison(lower_upper_bonds_avg, medians_avg, maxs_avg, clinician_reward)"
   ]
  },
  {
   "cell_type": "markdown",
   "id": "6804237d-8c61-41b1-ac93-493421a6940d",
   "metadata": {},
   "source": [
    "### Plot and Evaluation"
   ]
  },
  {
   "cell_type": "code",
   "execution_count": 4,
   "id": "09421980-81f2-4dc5-bece-d3a86125f37a",
   "metadata": {},
   "outputs": [],
   "source": [
    "# Plot Validation_average_occurrences\n",
    "plot_ECMO.plot_average_occurrences(unique_action_space, cluster_num)"
   ]
  },
  {
   "cell_type": "code",
   "execution_count": 8,
   "id": "f40abf12-e479-4f87-986d-67a6bf0513c4",
   "metadata": {},
   "outputs": [],
   "source": [
    "model = rl.optimal_model(best_model_num, merged_test, clustered_test,cluster_num)\n",
    "plot_ECMO.plot_comparison(model,cluster_num, unique_action_space)\n",
    "plot_ECMO.plot_traj(model,cluster_num, ori_AS, unique_action_space)"
   ]
  }
 ],
 "metadata": {
  "kernelspec": {
   "display_name": "Python 3 (ipykernel)",
   "language": "python",
   "name": "python3"
  },
  "language_info": {
   "codemirror_mode": {
    "name": "ipython",
    "version": 3
   },
   "file_extension": ".py",
   "mimetype": "text/x-python",
   "name": "python",
   "nbconvert_exporter": "python",
   "pygments_lexer": "ipython3",
   "version": "3.11.7"
  }
 },
 "nbformat": 4,
 "nbformat_minor": 5
}
